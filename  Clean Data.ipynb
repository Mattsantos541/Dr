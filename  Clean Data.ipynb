{
 "cells": [
  {
   "cell_type": "code",
   "execution_count": 6,
   "metadata": {},
   "outputs": [],
   "source": [
    "import pandas as pd\n",
    "import numpy as np\n",
    "import matplotlib.pyplot as plt\n",
    "import seaborn as sns\n",
    "from sklearn.model_selection import train_test_split\n",
    "from sklearn.preprocessing import StandardScaler, MinMaxScaler\n",
    "from sklearn.metrics import mean_squared_error, r2_score, explained_variance_score\n",
    "from math import sqrt\n",
    "import warnings"
   ]
  },
  {
   "cell_type": "code",
   "execution_count": 7,
   "metadata": {},
   "outputs": [],
   "source": [
    "df= pd.read_csv('jobs_raw.csv')"
   ]
  },
  {
   "cell_type": "code",
   "execution_count": 8,
   "metadata": {},
   "outputs": [
    {
     "data": {
      "text/html": [
       "<div>\n",
       "<style scoped>\n",
       "    .dataframe tbody tr th:only-of-type {\n",
       "        vertical-align: middle;\n",
       "    }\n",
       "\n",
       "    .dataframe tbody tr th {\n",
       "        vertical-align: top;\n",
       "    }\n",
       "\n",
       "    .dataframe thead th {\n",
       "        text-align: right;\n",
       "    }\n",
       "</style>\n",
       "<table border=\"1\" class=\"dataframe\">\n",
       "  <thead>\n",
       "    <tr style=\"text-align: right;\">\n",
       "      <th></th>\n",
       "      <th>json_salary_max</th>\n",
       "      <th>json_salary_min</th>\n",
       "      <th>json_lat</th>\n",
       "      <th>json_lng</th>\n",
       "    </tr>\n",
       "  </thead>\n",
       "  <tbody>\n",
       "    <tr>\n",
       "      <th>count</th>\n",
       "      <td>2.345500e+04</td>\n",
       "      <td>23455.000000</td>\n",
       "      <td>27482.000000</td>\n",
       "      <td>27482.000000</td>\n",
       "    </tr>\n",
       "    <tr>\n",
       "      <th>mean</th>\n",
       "      <td>7.733438e+04</td>\n",
       "      <td>56361.493967</td>\n",
       "      <td>52.210374</td>\n",
       "      <td>-1.249683</td>\n",
       "    </tr>\n",
       "    <tr>\n",
       "      <th>std</th>\n",
       "      <td>1.179852e+05</td>\n",
       "      <td>25451.474981</td>\n",
       "      <td>1.090745</td>\n",
       "      <td>1.296996</td>\n",
       "    </tr>\n",
       "    <tr>\n",
       "      <th>min</th>\n",
       "      <td>1.150000e+02</td>\n",
       "      <td>103.000000</td>\n",
       "      <td>49.183300</td>\n",
       "      <td>-5.548620</td>\n",
       "    </tr>\n",
       "    <tr>\n",
       "      <th>25%</th>\n",
       "      <td>4.807500e+04</td>\n",
       "      <td>31841.000000</td>\n",
       "      <td>51.468400</td>\n",
       "      <td>-2.214870</td>\n",
       "    </tr>\n",
       "    <tr>\n",
       "      <th>50%</th>\n",
       "      <td>7.466100e+04</td>\n",
       "      <td>49294.000000</td>\n",
       "      <td>51.764000</td>\n",
       "      <td>-1.207980</td>\n",
       "    </tr>\n",
       "    <tr>\n",
       "      <th>75%</th>\n",
       "      <td>1.050420e+05</td>\n",
       "      <td>77913.000000</td>\n",
       "      <td>53.134500</td>\n",
       "      <td>-0.161262</td>\n",
       "    </tr>\n",
       "    <tr>\n",
       "      <th>max</th>\n",
       "      <td>9.000000e+06</td>\n",
       "      <td>350000.000000</td>\n",
       "      <td>55.768800</td>\n",
       "      <td>1.743600</td>\n",
       "    </tr>\n",
       "  </tbody>\n",
       "</table>\n",
       "</div>"
      ],
      "text/plain": [
       "       json_salary_max  json_salary_min      json_lat      json_lng\n",
       "count     2.345500e+04     23455.000000  27482.000000  27482.000000\n",
       "mean      7.733438e+04     56361.493967     52.210374     -1.249683\n",
       "std       1.179852e+05     25451.474981      1.090745      1.296996\n",
       "min       1.150000e+02       103.000000     49.183300     -5.548620\n",
       "25%       4.807500e+04     31841.000000     51.468400     -2.214870\n",
       "50%       7.466100e+04     49294.000000     51.764000     -1.207980\n",
       "75%       1.050420e+05     77913.000000     53.134500     -0.161262\n",
       "max       9.000000e+06    350000.000000     55.768800      1.743600"
      ]
     },
     "execution_count": 8,
     "metadata": {},
     "output_type": "execute_result"
    }
   ],
   "source": [
    "df.describe()"
   ]
  },
  {
   "cell_type": "markdown",
   "metadata": {},
   "source": [
    "Cleaning Data set: dropping many columns"
   ]
  },
  {
   "cell_type": "code",
   "execution_count": 16,
   "metadata": {},
   "outputs": [],
   "source": [
    "df=df.drop(['job_reference', 'department', 'working_pattern', 'pay_scheme', 'pay_band', 'staff_group', 'full_description', 'json_salary_unit', 'json_salary_value'], axis = 1)"
   ]
  },
  {
   "cell_type": "code",
   "execution_count": 19,
   "metadata": {},
   "outputs": [],
   "source": [
    "df= df.drop(['json_date_posted', 'json_description', 'json_employment_type', 'json_hire_name', 'json_address_locality', 'json_address_postcode', 'json_closing_date', 'json_lng'], axis=1)"
   ]
  },
  {
   "cell_type": "code",
   "execution_count": 21,
   "metadata": {},
   "outputs": [
    {
     "name": "stdout",
     "output_type": "stream",
     "text": [
      "<class 'pandas.core.frame.DataFrame'>\n",
      "RangeIndex: 27482 entries, 0 to 27481\n",
      "Data columns (total 10 columns):\n",
      "employer             27482 non-null object\n",
      "employer_postcode    27482 non-null object\n",
      "location             27482 non-null object\n",
      "salary               27478 non-null object\n",
      "job_type             27482 non-null object\n",
      "specialty            22554 non-null object\n",
      "json_salary_max      23455 non-null float64\n",
      "json_salary_min      23455 non-null float64\n",
      "json_lat             27482 non-null float64\n",
      "json_title           27482 non-null object\n",
      "dtypes: float64(3), object(7)\n",
      "memory usage: 2.1+ MB\n"
     ]
    }
   ],
   "source": [
    "df.info()"
   ]
  },
  {
   "cell_type": "code",
   "execution_count": 22,
   "metadata": {},
   "outputs": [],
   "source": [
    "df.to_csv('new_Dr.csv')"
   ]
  },
  {
   "cell_type": "code",
   "execution_count": 24,
   "metadata": {},
   "outputs": [
    {
     "data": {
      "text/plain": [
       "employer                0\n",
       "employer_postcode       0\n",
       "location                0\n",
       "salary                  4\n",
       "job_type                0\n",
       "specialty            4928\n",
       "json_salary_max      4027\n",
       "json_salary_min      4027\n",
       "json_lat                0\n",
       "json_title              0\n",
       "dtype: int64"
      ]
     },
     "execution_count": 24,
     "metadata": {},
     "output_type": "execute_result"
    }
   ],
   "source": [
    "df.isnull().sum()"
   ]
  },
  {
   "cell_type": "code",
   "execution_count": 38,
   "metadata": {},
   "outputs": [],
   "source": [
    "df=df.dropna()"
   ]
  },
  {
   "cell_type": "code",
   "execution_count": 39,
   "metadata": {},
   "outputs": [
    {
     "data": {
      "text/plain": [
       "employer             0\n",
       "employer_postcode    0\n",
       "location             0\n",
       "salary               0\n",
       "job_type             0\n",
       "specialty            0\n",
       "json_salary_max      0\n",
       "json_salary_min      0\n",
       "json_lat             0\n",
       "json_title           0\n",
       "dtype: int64"
      ]
     },
     "execution_count": 39,
     "metadata": {},
     "output_type": "execute_result"
    }
   ],
   "source": [
    "df.isna().sum()"
   ]
  },
  {
   "cell_type": "code",
   "execution_count": 43,
   "metadata": {},
   "outputs": [],
   "source": [
    "df.to_csv('new_Dr.csv')"
   ]
  },
  {
   "cell_type": "code",
   "execution_count": null,
   "metadata": {},
   "outputs": [],
   "source": []
  }
 ],
 "metadata": {
  "kernelspec": {
   "display_name": "Python 3",
   "language": "python",
   "name": "python3"
  },
  "language_info": {
   "codemirror_mode": {
    "name": "ipython",
    "version": 3
   },
   "file_extension": ".py",
   "mimetype": "text/x-python",
   "name": "python",
   "nbconvert_exporter": "python",
   "pygments_lexer": "ipython3",
   "version": "3.7.3"
  }
 },
 "nbformat": 4,
 "nbformat_minor": 2
}
